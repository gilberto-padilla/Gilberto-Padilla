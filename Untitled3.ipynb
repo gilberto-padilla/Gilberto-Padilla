{
 "cells": [
  {
   "cell_type": "code",
   "execution_count": 8,
   "metadata": {},
   "outputs": [
    {
     "name": "stdout",
     "output_type": "stream",
     "text": [
      "give me 3 diferent ages\n",
      "2\n",
      "2\n",
      "2\n",
      " 2.0 is the media of the ages\n"
     ]
    }
   ],
   "source": [
    "print(\"give me 3 diferent ages\")\n",
    "age1 = int(input())\n",
    "age2 = int(input())\n",
    "age3 = int(input())\n",
    "total = age1 + age2 + age3\n",
    "media = total / 3\n",
    "print(f\" {media} is the media of the ages\")"
   ]
  },
  {
   "cell_type": "code",
   "execution_count": null,
   "metadata": {},
   "outputs": [],
   "source": []
  },
  {
   "cell_type": "code",
   "execution_count": null,
   "metadata": {},
   "outputs": [],
   "source": []
  },
  {
   "cell_type": "code",
   "execution_count": null,
   "metadata": {},
   "outputs": [],
   "source": []
  }
 ],
 "metadata": {
  "kernelspec": {
   "display_name": "Python 3",
   "language": "python",
   "name": "python3"
  },
  "language_info": {
   "codemirror_mode": {
    "name": "ipython",
    "version": 3
   },
   "file_extension": ".py",
   "mimetype": "text/x-python",
   "name": "python",
   "nbconvert_exporter": "python",
   "pygments_lexer": "ipython3",
   "version": "3.7.3"
  }
 },
 "nbformat": 4,
 "nbformat_minor": 2
}
