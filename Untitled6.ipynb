{
 "cells": [
  {
   "cell_type": "code",
   "execution_count": 36,
   "metadata": {},
   "outputs": [
    {
     "name": "stdout",
     "output_type": "stream",
     "text": [
      "how much data du you want to introduce? 1\n",
      "Introduce name: jose\n",
      "what number of name do you want?: 0\n",
      "jose\n"
     ]
    }
   ],
   "source": [
    " \n",
    "values = int(input(\"how much data du you want to introduce? \"))\n",
    "names = []\n",
    "total = 0\n",
    "for i in range(0,values):\n",
    "    x = input(\"Introduce name: \")\n",
    "    names.append(x)\n",
    "number_of_name = int(input(\"what number of name do you want?: \"))\n",
    "    \n",
    "if number_of_name < values:\n",
    "    print(names[number_of_name])\n",
    "else:\n",
    "    print(\"it is not valid\")\n"
   ]
  },
  {
   "cell_type": "code",
   "execution_count": null,
   "metadata": {},
   "outputs": [],
   "source": []
  },
  {
   "cell_type": "code",
   "execution_count": null,
   "metadata": {},
   "outputs": [],
   "source": []
  }
 ],
 "metadata": {
  "kernelspec": {
   "display_name": "Python 3",
   "language": "python",
   "name": "python3"
  },
  "language_info": {
   "codemirror_mode": {
    "name": "ipython",
    "version": 3
   },
   "file_extension": ".py",
   "mimetype": "text/x-python",
   "name": "python",
   "nbconvert_exporter": "python",
   "pygments_lexer": "ipython3",
   "version": "3.7.3"
  }
 },
 "nbformat": 4,
 "nbformat_minor": 2
}
